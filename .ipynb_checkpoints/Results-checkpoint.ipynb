version https://git-lfs.github.com/spec/v1
oid sha256:87d7fafd575e956947be6c7e0d0647db9e5d46f0deab80540f8de6987c2822b5
size 203460
