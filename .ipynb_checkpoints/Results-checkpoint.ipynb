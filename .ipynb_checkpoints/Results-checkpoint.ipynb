version https://git-lfs.github.com/spec/v1
oid sha256:36a7b53af98fce9cce4266e6809f1fd5685c7b8663b5bb45725db47d016764c8
size 198567
