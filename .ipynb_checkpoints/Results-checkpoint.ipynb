version https://git-lfs.github.com/spec/v1
oid sha256:8ec46ce66f623d762ed104ad3a9d212762f084c965840b8679628ceadf646abc
size 595108
