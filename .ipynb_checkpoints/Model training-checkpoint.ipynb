version https://git-lfs.github.com/spec/v1
oid sha256:ec2b0e51463a5cd84d2634b9427679748c52e09342adf730a23d717b784bc226
size 17658
